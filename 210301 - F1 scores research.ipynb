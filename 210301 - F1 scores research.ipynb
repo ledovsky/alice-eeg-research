{
 "metadata": {
  "language_info": {
   "codemirror_mode": {
    "name": "ipython",
    "version": 3
   },
   "file_extension": ".py",
   "mimetype": "text/x-python",
   "name": "python",
   "nbconvert_exporter": "python",
   "pygments_lexer": "ipython3",
   "version": "3.9.1-final"
  },
  "orig_nbformat": 2,
  "kernelspec": {
   "name": "python3",
   "display_name": "Python 3.9.1 64-bit ('neuroml': conda)",
   "metadata": {
    "interpreter": {
     "hash": "3134bdf3a4896135609665b32bda8250e295a183fc80fd857b48e43758072a97"
    }
   }
  }
 },
 "nbformat": 4,
 "nbformat_minor": 2,
 "cells": [
  {
   "cell_type": "code",
   "execution_count": 1,
   "metadata": {},
   "outputs": [],
   "source": [
    "import matplotlib.pyplot as plt\n",
    "import numpy as np\n",
    "import pandas as pd\n",
    "\n",
    "%matplotlib inline"
   ]
  },
  {
   "cell_type": "code",
   "execution_count": 2,
   "metadata": {},
   "outputs": [],
   "source": [
    "from data import load_dataset, build_target_df\n",
    "from features import build_feature_df\n",
    "\n",
    "\n",
    "def propogate_labels(annotations, merge_eyes=True):\n",
    "    if not merge_eyes:\n",
    "        return annotations.assign(flag_brain=annotations[['flag_brain', 'flag_alpha', 'flag_mu']].any(axis=1)) \\\n",
    "                          .drop(columns=['flag_line_noise'])\n",
    "    return annotations.assign(flag_eyes=annotations[['flag_eyes', 'flag_eyes_h', 'flag_eyes_v']].any(axis=1),\n",
    "                              flag_brain=annotations[['flag_brain', 'flag_alpha', 'flag_mu']].any(axis=1)) \\\n",
    "                      .drop(columns=['flag_eyes_v', 'flag_eyes_h', 'flag_line_noise'])\n",
    "\n",
    "\n",
    "dir = 'dataset_Kids'"
   ]
  },
  {
   "cell_type": "code",
   "execution_count": 3,
   "metadata": {},
   "outputs": [],
   "source": [
    "data, raw_annotations = load_dataset(dir)\n",
    "features = build_feature_df(data, default=True, custom_features={})\n",
    "annotations = propogate_labels(raw_annotations)\n",
    "\n",
    "targets = build_target_df(annotations, weights='uniform', strategy='mean', threshold=0.33)\n",
    "targets[['flag_alpha', 'flag_mu', 'flag_heart']] = build_target_df(annotations, ['flag_alpha', 'flag_mu', 'flag_heart'], strategy='majority')\n",
    "targets = targets.loc[:, (targets.mean(axis=0) > 0.05) & (targets.all(axis=0) < 0.95)]"
   ]
  },
  {
   "cell_type": "code",
   "execution_count": 4,
   "metadata": {},
   "outputs": [],
   "source": [
    "from sklearn.linear_model import LogisticRegression\n",
    "from xgboost import XGBClassifier\n",
    "from sklearn.svm import SVC\n",
    "from sklearn.model_selection import train_test_split\n",
    "from sklearn.metrics import roc_curve, roc_auc_score, f1_score, RocCurveDisplay, precision_recall_curve\n",
    "\n",
    "\n",
    "models = {'LR': LogisticRegression(solver='liblinear', penalty='l2', C=1.0),\n",
    "          'XGB': XGBClassifier(learning_rate=0.3, max_depth=4, n_estimators=30, eval_metric='logloss'),\n",
    "          'SVM': SVC(kernel='linear', probability=True)}\n",
    "n_repeats = 50"
   ]
  },
  {
   "cell_type": "code",
   "execution_count": 8,
   "metadata": {},
   "outputs": [],
   "source": [
    "def plot_roc_curve(ax, y_true, y_pred, title=None, lw=2, color='darkorange', **kwargs):\n",
    "    fpr, tpr, _ = roc_curve(y_true, y_pred)\n",
    "    roc_auc = roc_auc_score(y_true, y_pred)\n",
    "    \n",
    "    ax.set_title(title)\n",
    "    RocCurveDisplay(fpr=fpr, tpr=tpr, roc_auc=roc_auc).plot(ax=ax, color=color, lw=lw, **kwargs)\n",
    "\n",
    "\n",
    "def plot_f1_curve(ax, y_true, y_pred, title=None, lw=2, color='darkorange', **kwargs):\n",
    "    pr, rec, thresholds = precision_recall_curve(y_true, y_pred)\n",
    "    f1 = 2 * pr * rec / (pr + rec)\n",
    "    ax.set_title(title)\n",
    "    ax.set_xlim(-0.05, 1.05)\n",
    "    ax.set_ylim(-0.05, 1.05)\n",
    "    ax.plot([0] + list(thresholds), f1, color=color, lw=lw, **kwargs)\n",
    "\n",
    "\n",
    "def repeated_train_test(features, target, model, n_repeats, test_size=0.3, axes=None, random_state=57):\n",
    "    y_true = []\n",
    "    y_preds = []\n",
    "    np.random.seed(random_state)\n",
    "\n",
    "    for _ in range(n_repeats):\n",
    "        X_train, X_test, y_train, y_test = train_test_split(features, target, test_size=test_size, stratify=target)\n",
    "        model.fit(X_train, y_train)\n",
    "        y_pred = model.predict(X_test)\n",
    "        # y_proba = model.predict_proba(X_test)[:, 1]\n",
    "        # roc_aucs.append(roc_auc_score(y_test, y_proba))\n",
    "        # f1_scores.append(f1_score(y_test, y_pred))\n",
    "        y_true.append(y_test)\n",
    "        y_preds.append(y_pred)\n",
    "\n",
    "    return np.array(y_true), np.array(y_preds)\n",
    "    #     if axes is not None:\n",
    "    #         plot_roc_curve(axes[0], y_test, y_proba, alpha=.1)\n",
    "    #         plot_f1_curve(axes[1], y_test, y_proba, alpha=.1)\n",
    "\n",
    "    # if axes is not None:\n",
    "    #     for ax in axes:\n",
    "    #         ax.set_xticks([])\n",
    "    #         ax.set_yticks([])\n",
    "    #         ax.set_xlabel('')\n",
    "    #         ax.set_ylabel('')\n",
    "    #     axes[0].plot([0, 1], [0, 1], color='navy', lw=2, linestyle='--')\n",
    "    #     axes[1].axvline(x=0.5, color='navy', lw=2, linestyle='--')\n",
    "    #     axes[0].legend().remove()\n",
    "\n",
    "    # return roc_aucs, f1_scores\n",
    "\n",
    "def plot_curves_grid(features, targets, models):\n",
    "    \n",
    "    fig_auc, axes_auc = plt.subplots(len(models), len(targets.columns), figsize=(4 * len(targets.columns), 3 * len(models)))\n",
    "    fig_f1, axes_f1 = plt.subplots(len(models), len(targets.columns), figsize=(4 * len(targets.columns), 3 * len(models)))\n",
    "\n",
    "    for (model_name, model), row_auc, row_f1 in zip(models.items(), axes_auc, axes_f1):\n",
    "        for flag, ax_auc, ax_f1 in zip(targets, row_auc, row_f1):\n",
    "            repeated_train_test(features, targets[flag], model, n_repeats, axes=(ax_auc, ax_f1))\n",
    "            ax_auc.set_xlabel('')\n",
    "            ax_f1.set_xlabel('')\n",
    "        row_auc[0].set_ylabel(model_name, fontsize=30, labelpad=16)\n",
    "        row_f1[0].set_ylabel(model_name, fontsize=30, labelpad=16)\n",
    "    for target_name, ax_auc, ax_f1 in zip(targets, axes_auc[0], axes_f1[0]):\n",
    "        ax_auc.set_title(target_name[5:].capitalize(), fontsize=30, pad=16)\n",
    "        ax_f1.set_title(target_name[5:].capitalize(), fontsize=30, pad=16)\n",
    "\n",
    "    fig_auc.subplots_adjust(wspace=0.05, hspace=0.05)\n",
    "    fig_f1.subplots_adjust(wspace=0.05, hspace=0.05)\n",
    "\n",
    "    return fig_auc, fig_f1"
   ]
  },
  {
   "cell_type": "code",
   "execution_count": 10,
   "metadata": {},
   "outputs": [],
   "source": [
    "true, preds = repeated_train_test(features, targets['flag_eyes'], models['LR'], n_repeats)"
   ]
  },
  {
   "cell_type": "code",
   "execution_count": 20,
   "metadata": {},
   "outputs": [],
   "source": [
    "from itertools import product\n",
    "TN, FP, FN, TP = (np.sum((true == i) & (preds == j), axis=1) for i, j in product([0, 1], repeat=2))"
   ]
  },
  {
   "cell_type": "code",
   "execution_count": 22,
   "metadata": {},
   "outputs": [
    {
     "output_type": "execute_result",
     "data": {
      "text/plain": [
       "11.22"
      ]
     },
     "metadata": {},
     "execution_count": 22
    }
   ],
   "source": [
    "TP.mean()"
   ]
  },
  {
   "cell_type": "code",
   "execution_count": 36,
   "metadata": {},
   "outputs": [],
   "source": [
    "from itertools import product\n",
    "\n",
    "contingency_eyes = pd.DataFrame(index=models, dtype=float)\n",
    "\n",
    "\n",
    "for model_name, model in models.items():\n",
    "    true, preds = repeated_train_test(features, targets['flag_eyes'], model, n_repeats)\n",
    "    for type, (i, j) in zip(['TN', 'FP', 'FN', 'TP'], product([0, 1], repeat=2)):\n",
    "        answer_type = np.sum((true == i) & (preds == j), axis=1)\n",
    "        contingency_eyes.loc[model_name, type] = answer_type.mean()\n",
    "\n"
   ]
  },
  {
   "cell_type": "code",
   "execution_count": 37,
   "metadata": {},
   "outputs": [
    {
     "output_type": "execute_result",
     "data": {
      "text/plain": [
       "         TN    FP     FN     TP\n",
       "LR   161.38  1.62  11.78  11.22\n",
       "XGB  159.44  3.56  10.40  12.60\n",
       "SVM  161.94  1.06  11.76  11.24"
      ],
      "text/html": "<div>\n<style scoped>\n    .dataframe tbody tr th:only-of-type {\n        vertical-align: middle;\n    }\n\n    .dataframe tbody tr th {\n        vertical-align: top;\n    }\n\n    .dataframe thead th {\n        text-align: right;\n    }\n</style>\n<table border=\"1\" class=\"dataframe\">\n  <thead>\n    <tr style=\"text-align: right;\">\n      <th></th>\n      <th>TN</th>\n      <th>FP</th>\n      <th>FN</th>\n      <th>TP</th>\n    </tr>\n  </thead>\n  <tbody>\n    <tr>\n      <th>LR</th>\n      <td>161.38</td>\n      <td>1.62</td>\n      <td>11.78</td>\n      <td>11.22</td>\n    </tr>\n    <tr>\n      <th>XGB</th>\n      <td>159.44</td>\n      <td>3.56</td>\n      <td>10.40</td>\n      <td>12.60</td>\n    </tr>\n    <tr>\n      <th>SVM</th>\n      <td>161.94</td>\n      <td>1.06</td>\n      <td>11.76</td>\n      <td>11.24</td>\n    </tr>\n  </tbody>\n</table>\n</div>"
     },
     "metadata": {},
     "execution_count": 37
    }
   ],
   "source": [
    "contingency_eyes"
   ]
  },
  {
   "cell_type": "code",
   "execution_count": 29,
   "metadata": {},
   "outputs": [
    {
     "output_type": "execute_result",
     "data": {
      "text/plain": [
       "     flag_brain flag_alpha   flag_mu  flag_eyes flag_muscles flag_heart  \\\n",
       "LR   TP: 127.72   TP: 6.38  TP: 5.54  TP: 11.22    TP: 21.98   TP: 5.74   \n",
       "XGB  TP: 124.68   TP: 7.12  TP: 8.92  TP: 12.60    TP: 25.16  TP: 25.14   \n",
       "SVM  TP: 127.00   TP: 4.98  TP: 3.38  TP: 11.24    TP: 24.82   TP: 0.22   \n",
       "\n",
       "    flag_ch_noise  \n",
       "LR       TP: 0.00  \n",
       "XGB      TP: 1.70  \n",
       "SVM      TP: 0.00  "
      ],
      "text/html": "<div>\n<style scoped>\n    .dataframe tbody tr th:only-of-type {\n        vertical-align: middle;\n    }\n\n    .dataframe tbody tr th {\n        vertical-align: top;\n    }\n\n    .dataframe thead th {\n        text-align: right;\n    }\n</style>\n<table border=\"1\" class=\"dataframe\">\n  <thead>\n    <tr style=\"text-align: right;\">\n      <th></th>\n      <th>flag_brain</th>\n      <th>flag_alpha</th>\n      <th>flag_mu</th>\n      <th>flag_eyes</th>\n      <th>flag_muscles</th>\n      <th>flag_heart</th>\n      <th>flag_ch_noise</th>\n    </tr>\n  </thead>\n  <tbody>\n    <tr>\n      <th>LR</th>\n      <td>TP: 127.72</td>\n      <td>TP: 6.38</td>\n      <td>TP: 5.54</td>\n      <td>TP: 11.22</td>\n      <td>TP: 21.98</td>\n      <td>TP: 5.74</td>\n      <td>TP: 0.00</td>\n    </tr>\n    <tr>\n      <th>XGB</th>\n      <td>TP: 124.68</td>\n      <td>TP: 7.12</td>\n      <td>TP: 8.92</td>\n      <td>TP: 12.60</td>\n      <td>TP: 25.16</td>\n      <td>TP: 25.14</td>\n      <td>TP: 1.70</td>\n    </tr>\n    <tr>\n      <th>SVM</th>\n      <td>TP: 127.00</td>\n      <td>TP: 4.98</td>\n      <td>TP: 3.38</td>\n      <td>TP: 11.24</td>\n      <td>TP: 24.82</td>\n      <td>TP: 0.22</td>\n      <td>TP: 0.00</td>\n    </tr>\n  </tbody>\n</table>\n</div>"
     },
     "metadata": {},
     "execution_count": 29
    }
   ],
   "source": [
    "TPs"
   ]
  },
  {
   "cell_type": "code",
   "execution_count": 30,
   "metadata": {},
   "outputs": [
    {
     "output_type": "execute_result",
     "data": {
      "text/plain": [
       "    flag_brain  flag_alpha     flag_mu   flag_eyes flag_muscles  flag_heart  \\\n",
       "LR   TN: 37.24  TN: 167.38  TN: 155.84  TN: 161.38   TN: 141.46  TN: 110.02   \n",
       "XGB  TN: 37.62  TN: 165.16  TN: 149.90  TN: 159.44   TN: 138.38   TN: 87.08   \n",
       "SVM  TN: 38.34  TN: 167.58  TN: 157.12  TN: 161.94   TN: 141.64  TN: 116.48   \n",
       "\n",
       "    flag_ch_noise  \n",
       "LR     TN: 171.64  \n",
       "XGB    TN: 169.50  \n",
       "SVM    TN: 172.00  "
      ],
      "text/html": "<div>\n<style scoped>\n    .dataframe tbody tr th:only-of-type {\n        vertical-align: middle;\n    }\n\n    .dataframe tbody tr th {\n        vertical-align: top;\n    }\n\n    .dataframe thead th {\n        text-align: right;\n    }\n</style>\n<table border=\"1\" class=\"dataframe\">\n  <thead>\n    <tr style=\"text-align: right;\">\n      <th></th>\n      <th>flag_brain</th>\n      <th>flag_alpha</th>\n      <th>flag_mu</th>\n      <th>flag_eyes</th>\n      <th>flag_muscles</th>\n      <th>flag_heart</th>\n      <th>flag_ch_noise</th>\n    </tr>\n  </thead>\n  <tbody>\n    <tr>\n      <th>LR</th>\n      <td>TN: 37.24</td>\n      <td>TN: 167.38</td>\n      <td>TN: 155.84</td>\n      <td>TN: 161.38</td>\n      <td>TN: 141.46</td>\n      <td>TN: 110.02</td>\n      <td>TN: 171.64</td>\n    </tr>\n    <tr>\n      <th>XGB</th>\n      <td>TN: 37.62</td>\n      <td>TN: 165.16</td>\n      <td>TN: 149.90</td>\n      <td>TN: 159.44</td>\n      <td>TN: 138.38</td>\n      <td>TN: 87.08</td>\n      <td>TN: 169.50</td>\n    </tr>\n    <tr>\n      <th>SVM</th>\n      <td>TN: 38.34</td>\n      <td>TN: 167.58</td>\n      <td>TN: 157.12</td>\n      <td>TN: 161.94</td>\n      <td>TN: 141.64</td>\n      <td>TN: 116.48</td>\n      <td>TN: 172.00</td>\n    </tr>\n  </tbody>\n</table>\n</div>"
     },
     "metadata": {},
     "execution_count": 30
    }
   ],
   "source": [
    "TNs"
   ]
  },
  {
   "cell_type": "code",
   "execution_count": 31,
   "metadata": {},
   "outputs": [
    {
     "output_type": "execute_result",
     "data": {
      "text/plain": [
       "    flag_brain flag_alpha   flag_mu flag_eyes flag_muscles flag_heart  \\\n",
       "LR   FP: 13.76   FP: 0.62  FP: 2.16  FP: 1.62     FP: 4.08   FP: 6.98   \n",
       "XGB  FP: 13.38   FP: 2.84  FP: 8.10  FP: 3.56     FP: 7.20  FP: 29.92   \n",
       "SVM  FP: 12.66   FP: 0.42  FP: 0.88  FP: 1.06     FP: 3.90   FP: 0.52   \n",
       "\n",
       "    flag_ch_noise  \n",
       "LR       FP: 0.36  \n",
       "XGB      FP: 2.50  \n",
       "SVM      FP: 0.00  "
      ],
      "text/html": "<div>\n<style scoped>\n    .dataframe tbody tr th:only-of-type {\n        vertical-align: middle;\n    }\n\n    .dataframe tbody tr th {\n        vertical-align: top;\n    }\n\n    .dataframe thead th {\n        text-align: right;\n    }\n</style>\n<table border=\"1\" class=\"dataframe\">\n  <thead>\n    <tr style=\"text-align: right;\">\n      <th></th>\n      <th>flag_brain</th>\n      <th>flag_alpha</th>\n      <th>flag_mu</th>\n      <th>flag_eyes</th>\n      <th>flag_muscles</th>\n      <th>flag_heart</th>\n      <th>flag_ch_noise</th>\n    </tr>\n  </thead>\n  <tbody>\n    <tr>\n      <th>LR</th>\n      <td>FP: 13.76</td>\n      <td>FP: 0.62</td>\n      <td>FP: 2.16</td>\n      <td>FP: 1.62</td>\n      <td>FP: 4.08</td>\n      <td>FP: 6.98</td>\n      <td>FP: 0.36</td>\n    </tr>\n    <tr>\n      <th>XGB</th>\n      <td>FP: 13.38</td>\n      <td>FP: 2.84</td>\n      <td>FP: 8.10</td>\n      <td>FP: 3.56</td>\n      <td>FP: 7.20</td>\n      <td>FP: 29.92</td>\n      <td>FP: 2.50</td>\n    </tr>\n    <tr>\n      <th>SVM</th>\n      <td>FP: 12.66</td>\n      <td>FP: 0.42</td>\n      <td>FP: 0.88</td>\n      <td>FP: 1.06</td>\n      <td>FP: 3.90</td>\n      <td>FP: 0.52</td>\n      <td>FP: 0.00</td>\n    </tr>\n  </tbody>\n</table>\n</div>"
     },
     "metadata": {},
     "execution_count": 31
    }
   ],
   "source": [
    "FPs"
   ]
  },
  {
   "cell_type": "code",
   "execution_count": 32,
   "metadata": {},
   "outputs": [
    {
     "output_type": "execute_result",
     "data": {
      "text/plain": [
       "    flag_brain flag_alpha    flag_mu  flag_eyes flag_muscles flag_heart  \\\n",
       "LR    FN: 7.28  FN: 11.62  FN: 22.46  FN: 11.78    FN: 18.48  FN: 63.26   \n",
       "XGB  FN: 10.32  FN: 10.88  FN: 19.08  FN: 10.40    FN: 15.26  FN: 43.86   \n",
       "SVM   FN: 8.00  FN: 13.02  FN: 24.62  FN: 11.76    FN: 15.64  FN: 68.78   \n",
       "\n",
       "    flag_ch_noise  \n",
       "LR      FN: 14.00  \n",
       "XGB     FN: 12.30  \n",
       "SVM     FN: 14.00  "
      ],
      "text/html": "<div>\n<style scoped>\n    .dataframe tbody tr th:only-of-type {\n        vertical-align: middle;\n    }\n\n    .dataframe tbody tr th {\n        vertical-align: top;\n    }\n\n    .dataframe thead th {\n        text-align: right;\n    }\n</style>\n<table border=\"1\" class=\"dataframe\">\n  <thead>\n    <tr style=\"text-align: right;\">\n      <th></th>\n      <th>flag_brain</th>\n      <th>flag_alpha</th>\n      <th>flag_mu</th>\n      <th>flag_eyes</th>\n      <th>flag_muscles</th>\n      <th>flag_heart</th>\n      <th>flag_ch_noise</th>\n    </tr>\n  </thead>\n  <tbody>\n    <tr>\n      <th>LR</th>\n      <td>FN: 7.28</td>\n      <td>FN: 11.62</td>\n      <td>FN: 22.46</td>\n      <td>FN: 11.78</td>\n      <td>FN: 18.48</td>\n      <td>FN: 63.26</td>\n      <td>FN: 14.00</td>\n    </tr>\n    <tr>\n      <th>XGB</th>\n      <td>FN: 10.32</td>\n      <td>FN: 10.88</td>\n      <td>FN: 19.08</td>\n      <td>FN: 10.40</td>\n      <td>FN: 15.26</td>\n      <td>FN: 43.86</td>\n      <td>FN: 12.30</td>\n    </tr>\n    <tr>\n      <th>SVM</th>\n      <td>FN: 8.00</td>\n      <td>FN: 13.02</td>\n      <td>FN: 24.62</td>\n      <td>FN: 11.76</td>\n      <td>FN: 15.64</td>\n      <td>FN: 68.78</td>\n      <td>FN: 14.00</td>\n    </tr>\n  </tbody>\n</table>\n</div>"
     },
     "metadata": {},
     "execution_count": 32
    }
   ],
   "source": [
    "FNs"
   ]
  },
  {
   "cell_type": "code",
   "execution_count": null,
   "metadata": {},
   "outputs": [],
   "source": []
  }
 ]
}