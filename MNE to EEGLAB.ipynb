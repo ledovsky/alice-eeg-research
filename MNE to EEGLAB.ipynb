{
 "cells": [
  {
   "cell_type": "code",
   "execution_count": 1,
   "id": "3317f136",
   "metadata": {},
   "outputs": [],
   "source": [
    "from mne.io import read_raw_edf\n",
    "import mne\n",
    "import pandas as pd"
   ]
  },
  {
   "cell_type": "code",
   "execution_count": 2,
   "id": "9d9ac94a",
   "metadata": {},
   "outputs": [],
   "source": [
    "def find_channel(ch, chs_to_find):\n",
    "    for ch_to_find in chs_to_find:\n",
    "        if ch_to_find.lower() in ch.lower():\n",
    "            return ch_to_find\n",
    "    return ch\n",
    "\n",
    "def add_montage(raw, ch_map=None):\n",
    "    ten_twenty_montage = mne.channels.make_standard_montage('standard_1020')\n",
    "    if ch_map:\n",
    "        ten_twenty_montage.ch_names = [ch_map[ch] if ch in ch_map else ch\n",
    "                                       for ch in ten_twenty_montage.ch_names]\n",
    "    raw.set_montage(ten_twenty_montage)\n",
    "    return raw"
   ]
  },
  {
   "cell_type": "code",
   "execution_count": 3,
   "id": "b2aee4a0",
   "metadata": {},
   "outputs": [
    {
     "name": "stdout",
     "output_type": "stream",
     "text": [
      "Extracting EDF parameters from C:\\Users\\Пользователь\\Desktop\\dev\\test2.edf...\n",
      "EDF file detected\n",
      "Setting channel info structure...\n",
      "Creating raw.info structure...\n"
     ]
    }
   ],
   "source": [
    "sample = read_raw_edf('test2.edf')"
   ]
  },
  {
   "cell_type": "code",
   "execution_count": 4,
   "id": "1eb8702e",
   "metadata": {},
   "outputs": [],
   "source": [
    "chs_to_use = ['C3', 'C4', 'Cz', 'F3', 'F4', 'F7', 'F8', 'Fp1', 'Fp2', 'Fz',\n",
    "               'O1', 'O2', 'P3', 'P4', 'Pz', 'T3', 'T4', 'T5', 'T6']"
   ]
  },
  {
   "cell_type": "code",
   "execution_count": 5,
   "id": "0192334b",
   "metadata": {},
   "outputs": [],
   "source": [
    "ch_map = {ch: find_channel(ch, chs_to_find=chs_to_use) for ch in sample.ch_names}"
   ]
  },
  {
   "cell_type": "code",
   "execution_count": 6,
   "id": "74b251cc",
   "metadata": {},
   "outputs": [],
   "source": [
    "sample.rename_channels(ch_map);"
   ]
  },
  {
   "cell_type": "code",
   "execution_count": 7,
   "id": "56133dce",
   "metadata": {},
   "outputs": [],
   "source": [
    "sample.pick_channels(chs_to_use);"
   ]
  },
  {
   "cell_type": "code",
   "execution_count": 8,
   "id": "d006fb36",
   "metadata": {},
   "outputs": [],
   "source": [
    "sample = add_montage(sample, ch_map=None)"
   ]
  },
  {
   "cell_type": "code",
   "execution_count": 9,
   "id": "a5925627",
   "metadata": {},
   "outputs": [],
   "source": [
    "mont = sample.get_montage()"
   ]
  },
  {
   "cell_type": "markdown",
   "id": "9910f5d8",
   "metadata": {},
   "source": [
    "### Сохраняем семпл"
   ]
  },
  {
   "cell_type": "code",
   "execution_count": 10,
   "id": "b3094b0f",
   "metadata": {},
   "outputs": [],
   "source": [
    "pd.DataFrame(sample.get_data()).to_csv('test2.csv', index=False, header=False)"
   ]
  },
  {
   "cell_type": "code",
   "execution_count": 11,
   "id": "2140149d",
   "metadata": {},
   "outputs": [],
   "source": [
    "with open('test2.xyz', 'w') as f:\n",
    "    for i, (key, loc) in enumerate(mont.get_positions()['ch_pos'].items()):\n",
    "        f.write(f'{i}\\t{loc[0]}\\t{loc[1]}\\t{loc[2]}\\t{key}\\n')"
   ]
  },
  {
   "cell_type": "code",
   "execution_count": null,
   "id": "00373d9a",
   "metadata": {},
   "outputs": [],
   "source": []
  }
 ],
 "metadata": {
  "kernelspec": {
   "display_name": "Python 3",
   "language": "python",
   "name": "python3"
  },
  "language_info": {
   "codemirror_mode": {
    "name": "ipython",
    "version": 3
   },
   "file_extension": ".py",
   "mimetype": "text/x-python",
   "name": "python",
   "nbconvert_exporter": "python",
   "pygments_lexer": "ipython3",
   "version": "3.8.8"
  }
 },
 "nbformat": 4,
 "nbformat_minor": 5
}
