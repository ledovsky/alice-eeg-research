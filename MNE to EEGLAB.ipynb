{
 "cells": [
  {
   "cell_type": "code",
   "execution_count": 37,
   "id": "3317f136",
   "metadata": {},
   "outputs": [],
   "source": [
    "from mne.io import read_raw_edf\n",
    "import mne\n",
    "import pandas as pd\n",
    "import numpy as np\n",
    "from mne.preprocessing.ica import ICA"
   ]
  },
  {
   "cell_type": "code",
   "execution_count": 2,
   "id": "9d9ac94a",
   "metadata": {},
   "outputs": [],
   "source": [
    "def find_channel(ch, chs_to_find):\n",
    "    for ch_to_find in chs_to_find:\n",
    "        if ch_to_find.lower() in ch.lower():\n",
    "            return ch_to_find\n",
    "    return ch\n",
    "\n",
    "def add_montage(raw, ch_map=None):\n",
    "    ten_twenty_montage = mne.channels.make_standard_montage('standard_1020')\n",
    "    if ch_map:\n",
    "        ten_twenty_montage.ch_names = [ch_map[ch] if ch in ch_map else ch\n",
    "                                       for ch in ten_twenty_montage.ch_names]\n",
    "    raw.set_montage(ten_twenty_montage)\n",
    "    return raw"
   ]
  },
  {
   "cell_type": "code",
   "execution_count": 3,
   "id": "b2aee4a0",
   "metadata": {},
   "outputs": [
    {
     "name": "stdout",
     "output_type": "stream",
     "text": [
      "Extracting EDF parameters from C:\\Users\\Пользователь\\Desktop\\dev\\test2.edf...\n",
      "EDF file detected\n",
      "Setting channel info structure...\n",
      "Creating raw.info structure...\n"
     ]
    }
   ],
   "source": [
    "sample = read_raw_edf('test2.edf')"
   ]
  },
  {
   "cell_type": "code",
   "execution_count": 4,
   "id": "1eb8702e",
   "metadata": {},
   "outputs": [],
   "source": [
    "chs_to_use = ['C3', 'C4', 'Cz', 'F3', 'F4', 'F7', 'F8', 'Fp1', 'Fp2', 'Fz',\n",
    "               'O1', 'O2', 'P3', 'P4', 'Pz', 'T3', 'T4', 'T5', 'T6']"
   ]
  },
  {
   "cell_type": "code",
   "execution_count": 5,
   "id": "0192334b",
   "metadata": {},
   "outputs": [],
   "source": [
    "ch_map = {ch: find_channel(ch, chs_to_find=chs_to_use) for ch in sample.ch_names}"
   ]
  },
  {
   "cell_type": "code",
   "execution_count": 6,
   "id": "74b251cc",
   "metadata": {},
   "outputs": [],
   "source": [
    "sample.rename_channels(ch_map);"
   ]
  },
  {
   "cell_type": "code",
   "execution_count": 7,
   "id": "56133dce",
   "metadata": {},
   "outputs": [],
   "source": [
    "sample.pick_channels(chs_to_use);"
   ]
  },
  {
   "cell_type": "code",
   "execution_count": 8,
   "id": "d006fb36",
   "metadata": {},
   "outputs": [],
   "source": [
    "sample = add_montage(sample, ch_map=None)"
   ]
  },
  {
   "cell_type": "code",
   "execution_count": 9,
   "id": "a5925627",
   "metadata": {},
   "outputs": [],
   "source": [
    "mont = sample.get_montage()"
   ]
  },
  {
   "cell_type": "markdown",
   "id": "9910f5d8",
   "metadata": {},
   "source": [
    "### Сохраняем семпл"
   ]
  },
  {
   "cell_type": "code",
   "execution_count": 10,
   "id": "b3094b0f",
   "metadata": {},
   "outputs": [],
   "source": [
    "pd.DataFrame(sample.get_data()).to_csv('test2.csv', index=False, header=False)"
   ]
  },
  {
   "cell_type": "code",
   "execution_count": 11,
   "id": "2140149d",
   "metadata": {},
   "outputs": [],
   "source": [
    "with open('test2.xyz', 'w') as f:\n",
    "    for i, (key, loc) in enumerate(mont.get_positions()['ch_pos'].items()):\n",
    "        f.write(f'{i}\\t{loc[0]}\\t{loc[1]}\\t{loc[2]}\\t{key}\\n')"
   ]
  },
  {
   "cell_type": "markdown",
   "id": "34e57923",
   "metadata": {},
   "source": [
    "### Сохраняем ICA"
   ]
  },
  {
   "cell_type": "code",
   "execution_count": 18,
   "id": "9cc55e8f",
   "metadata": {},
   "outputs": [
    {
     "name": "stderr",
     "output_type": "stream",
     "text": [
      "<ipython-input-18-2292f52926df>:1: DeprecationWarning: Version 0.23 introduced max_iter=\"auto\", setting max_iter=1000 for `fastica` and max_iter=500 for `infomax` and `picard`. The current default of max_iter=200 will be changed to \"auto\" in version 0.24.\n",
      "  ica = ICA(n_components=15)\n"
     ]
    }
   ],
   "source": [
    "ica = ICA(n_components=15)"
   ]
  },
  {
   "cell_type": "code",
   "execution_count": 20,
   "id": "f2b9f429",
   "metadata": {},
   "outputs": [
    {
     "name": "stdout",
     "output_type": "stream",
     "text": [
      "Fitting ICA to data using 19 channels (please be patient, this may take a while)\n",
      "Selecting by number: 15 components\n"
     ]
    },
    {
     "name": "stderr",
     "output_type": "stream",
     "text": [
      "<ipython-input-20-2570303770f7>:1: RuntimeWarning: The data has not been high-pass filtered. For good ICA performance, it should be high-pass filtered (e.g., with a 1.0 Hz lower bound) before fitting ICA.\n",
      "  ica.fit(sample)\n"
     ]
    },
    {
     "name": "stdout",
     "output_type": "stream",
     "text": [
      "Fitting ICA took 0.4s.\n"
     ]
    },
    {
     "data": {
      "text/plain": [
       "<ICA | raw data decomposition, fit (fastica): 28500 samples, 15 components, channels used: \"eeg\">"
      ]
     },
     "execution_count": 20,
     "metadata": {},
     "output_type": "execute_result"
    }
   ],
   "source": [
    "ica.fit(sample)"
   ]
  },
  {
   "cell_type": "code",
   "execution_count": 57,
   "id": "5d6d6ae1",
   "metadata": {},
   "outputs": [],
   "source": [
    "np.savetxt('test2_ica.csv', ica.get_components().T, delimiter='\\t', fmt='%.12f')"
   ]
  },
  {
   "cell_type": "markdown",
   "id": "c1dce0e3",
   "metadata": {},
   "source": [
    "### Читаем результаты из matlab"
   ]
  },
  {
   "cell_type": "code",
   "execution_count": 80,
   "id": "d9d096e1",
   "metadata": {},
   "outputs": [
    {
     "data": {
      "text/plain": [
       "'01'"
      ]
     },
     "execution_count": 80,
     "metadata": {},
     "output_type": "execute_result"
    }
   ],
   "source": [
    "f'{1:02d}'"
   ]
  },
  {
   "cell_type": "code",
   "execution_count": 83,
   "id": "ad12b9f2",
   "metadata": {},
   "outputs": [],
   "source": [
    "iclabel_preds = pd.read_csv('test2_iclabel.csv', header=None, \n",
    "                  names=['flag_brain', 'flag_muscles', 'flag_eyes', 'flag_heart', 'flag_line_noise', 'flag_ch_noise', 'flat_other'])\n",
    "iclabel_preds.index = [f'ICA{i:03d}' for i in range(len(iclabel_preds))]"
   ]
  },
  {
   "cell_type": "code",
   "execution_count": 84,
   "id": "605a44da",
   "metadata": {},
   "outputs": [
    {
     "data": {
      "text/html": [
       "<div>\n",
       "<style scoped>\n",
       "    .dataframe tbody tr th:only-of-type {\n",
       "        vertical-align: middle;\n",
       "    }\n",
       "\n",
       "    .dataframe tbody tr th {\n",
       "        vertical-align: top;\n",
       "    }\n",
       "\n",
       "    .dataframe thead th {\n",
       "        text-align: right;\n",
       "    }\n",
       "</style>\n",
       "<table border=\"1\" class=\"dataframe\">\n",
       "  <thead>\n",
       "    <tr style=\"text-align: right;\">\n",
       "      <th></th>\n",
       "      <th>flag_brain</th>\n",
       "      <th>flag_muscles</th>\n",
       "      <th>flag_eyes</th>\n",
       "      <th>flag_heart</th>\n",
       "      <th>flag_line_noise</th>\n",
       "      <th>flag_ch_noise</th>\n",
       "      <th>flat_other</th>\n",
       "    </tr>\n",
       "  </thead>\n",
       "  <tbody>\n",
       "    <tr>\n",
       "      <th>ICA000</th>\n",
       "      <td>0.080687</td>\n",
       "      <td>0.001852</td>\n",
       "      <td>0.001511</td>\n",
       "      <td>0.001789</td>\n",
       "      <td>0.010031</td>\n",
       "      <td>0.000848</td>\n",
       "      <td>0.903281</td>\n",
       "    </tr>\n",
       "    <tr>\n",
       "      <th>ICA001</th>\n",
       "      <td>0.651608</td>\n",
       "      <td>0.002311</td>\n",
       "      <td>0.000742</td>\n",
       "      <td>0.000482</td>\n",
       "      <td>0.008329</td>\n",
       "      <td>0.000615</td>\n",
       "      <td>0.335913</td>\n",
       "    </tr>\n",
       "    <tr>\n",
       "      <th>ICA002</th>\n",
       "      <td>0.163483</td>\n",
       "      <td>0.000216</td>\n",
       "      <td>0.000271</td>\n",
       "      <td>0.000673</td>\n",
       "      <td>0.010732</td>\n",
       "      <td>0.019210</td>\n",
       "      <td>0.805415</td>\n",
       "    </tr>\n",
       "    <tr>\n",
       "      <th>ICA003</th>\n",
       "      <td>0.297324</td>\n",
       "      <td>0.034956</td>\n",
       "      <td>0.005871</td>\n",
       "      <td>0.012267</td>\n",
       "      <td>0.004329</td>\n",
       "      <td>0.022445</td>\n",
       "      <td>0.622809</td>\n",
       "    </tr>\n",
       "    <tr>\n",
       "      <th>ICA004</th>\n",
       "      <td>0.185386</td>\n",
       "      <td>0.030835</td>\n",
       "      <td>0.002514</td>\n",
       "      <td>0.002815</td>\n",
       "      <td>0.068894</td>\n",
       "      <td>0.006181</td>\n",
       "      <td>0.703375</td>\n",
       "    </tr>\n",
       "    <tr>\n",
       "      <th>ICA005</th>\n",
       "      <td>0.994844</td>\n",
       "      <td>0.000007</td>\n",
       "      <td>0.000019</td>\n",
       "      <td>0.000047</td>\n",
       "      <td>0.002235</td>\n",
       "      <td>0.000234</td>\n",
       "      <td>0.002614</td>\n",
       "    </tr>\n",
       "    <tr>\n",
       "      <th>ICA006</th>\n",
       "      <td>0.019974</td>\n",
       "      <td>0.002659</td>\n",
       "      <td>0.001005</td>\n",
       "      <td>0.001763</td>\n",
       "      <td>0.001836</td>\n",
       "      <td>0.004835</td>\n",
       "      <td>0.967927</td>\n",
       "    </tr>\n",
       "    <tr>\n",
       "      <th>ICA007</th>\n",
       "      <td>0.057851</td>\n",
       "      <td>0.008781</td>\n",
       "      <td>0.014888</td>\n",
       "      <td>0.002617</td>\n",
       "      <td>0.023688</td>\n",
       "      <td>0.006090</td>\n",
       "      <td>0.886085</td>\n",
       "    </tr>\n",
       "    <tr>\n",
       "      <th>ICA008</th>\n",
       "      <td>0.002919</td>\n",
       "      <td>0.000721</td>\n",
       "      <td>0.000095</td>\n",
       "      <td>0.000057</td>\n",
       "      <td>0.001964</td>\n",
       "      <td>0.000259</td>\n",
       "      <td>0.993985</td>\n",
       "    </tr>\n",
       "    <tr>\n",
       "      <th>ICA009</th>\n",
       "      <td>0.032303</td>\n",
       "      <td>0.002900</td>\n",
       "      <td>0.003842</td>\n",
       "      <td>0.001680</td>\n",
       "      <td>0.028995</td>\n",
       "      <td>0.007254</td>\n",
       "      <td>0.923026</td>\n",
       "    </tr>\n",
       "    <tr>\n",
       "      <th>ICA010</th>\n",
       "      <td>0.002692</td>\n",
       "      <td>0.003864</td>\n",
       "      <td>0.000524</td>\n",
       "      <td>0.000210</td>\n",
       "      <td>0.003441</td>\n",
       "      <td>0.001349</td>\n",
       "      <td>0.987920</td>\n",
       "    </tr>\n",
       "    <tr>\n",
       "      <th>ICA011</th>\n",
       "      <td>0.449762</td>\n",
       "      <td>0.007323</td>\n",
       "      <td>0.002925</td>\n",
       "      <td>0.000761</td>\n",
       "      <td>0.036085</td>\n",
       "      <td>0.008406</td>\n",
       "      <td>0.494739</td>\n",
       "    </tr>\n",
       "    <tr>\n",
       "      <th>ICA012</th>\n",
       "      <td>0.029334</td>\n",
       "      <td>0.000094</td>\n",
       "      <td>0.000179</td>\n",
       "      <td>0.006875</td>\n",
       "      <td>0.007604</td>\n",
       "      <td>0.001172</td>\n",
       "      <td>0.954741</td>\n",
       "    </tr>\n",
       "    <tr>\n",
       "      <th>ICA013</th>\n",
       "      <td>0.342481</td>\n",
       "      <td>0.002454</td>\n",
       "      <td>0.001565</td>\n",
       "      <td>0.002378</td>\n",
       "      <td>0.018203</td>\n",
       "      <td>0.000587</td>\n",
       "      <td>0.632333</td>\n",
       "    </tr>\n",
       "    <tr>\n",
       "      <th>ICA014</th>\n",
       "      <td>0.039730</td>\n",
       "      <td>0.010028</td>\n",
       "      <td>0.000165</td>\n",
       "      <td>0.002351</td>\n",
       "      <td>0.001900</td>\n",
       "      <td>0.000807</td>\n",
       "      <td>0.945020</td>\n",
       "    </tr>\n",
       "  </tbody>\n",
       "</table>\n",
       "</div>"
      ],
      "text/plain": [
       "        flag_brain  flag_muscles  flag_eyes  flag_heart  flag_line_noise  \\\n",
       "ICA000    0.080687      0.001852   0.001511    0.001789         0.010031   \n",
       "ICA001    0.651608      0.002311   0.000742    0.000482         0.008329   \n",
       "ICA002    0.163483      0.000216   0.000271    0.000673         0.010732   \n",
       "ICA003    0.297324      0.034956   0.005871    0.012267         0.004329   \n",
       "ICA004    0.185386      0.030835   0.002514    0.002815         0.068894   \n",
       "ICA005    0.994844      0.000007   0.000019    0.000047         0.002235   \n",
       "ICA006    0.019974      0.002659   0.001005    0.001763         0.001836   \n",
       "ICA007    0.057851      0.008781   0.014888    0.002617         0.023688   \n",
       "ICA008    0.002919      0.000721   0.000095    0.000057         0.001964   \n",
       "ICA009    0.032303      0.002900   0.003842    0.001680         0.028995   \n",
       "ICA010    0.002692      0.003864   0.000524    0.000210         0.003441   \n",
       "ICA011    0.449762      0.007323   0.002925    0.000761         0.036085   \n",
       "ICA012    0.029334      0.000094   0.000179    0.006875         0.007604   \n",
       "ICA013    0.342481      0.002454   0.001565    0.002378         0.018203   \n",
       "ICA014    0.039730      0.010028   0.000165    0.002351         0.001900   \n",
       "\n",
       "        flag_ch_noise  flat_other  \n",
       "ICA000       0.000848    0.903281  \n",
       "ICA001       0.000615    0.335913  \n",
       "ICA002       0.019210    0.805415  \n",
       "ICA003       0.022445    0.622809  \n",
       "ICA004       0.006181    0.703375  \n",
       "ICA005       0.000234    0.002614  \n",
       "ICA006       0.004835    0.967927  \n",
       "ICA007       0.006090    0.886085  \n",
       "ICA008       0.000259    0.993985  \n",
       "ICA009       0.007254    0.923026  \n",
       "ICA010       0.001349    0.987920  \n",
       "ICA011       0.008406    0.494739  \n",
       "ICA012       0.001172    0.954741  \n",
       "ICA013       0.000587    0.632333  \n",
       "ICA014       0.000807    0.945020  "
      ]
     },
     "execution_count": 84,
     "metadata": {},
     "output_type": "execute_result"
    }
   ],
   "source": [
    "iclabel_preds"
   ]
  }
 ],
 "metadata": {
  "kernelspec": {
   "display_name": "Python 3",
   "language": "python",
   "name": "python3"
  },
  "language_info": {
   "codemirror_mode": {
    "name": "ipython",
    "version": 3
   },
   "file_extension": ".py",
   "mimetype": "text/x-python",
   "name": "python",
   "nbconvert_exporter": "python",
   "pygments_lexer": "ipython3",
   "version": "3.8.8"
  }
 },
 "nbformat": 4,
 "nbformat_minor": 5
}
