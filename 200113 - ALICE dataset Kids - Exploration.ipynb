{
 "cells": [
  {
   "cell_type": "code",
   "execution_count": 1,
   "metadata": {},
   "outputs": [],
   "source": [
    "from os.path import join\n",
    "\n",
    "import pandas as pd\n",
    "import matplotlib.pyplot as plt\n",
    "%matplotlib inline"
   ]
  },
  {
   "cell_type": "code",
   "execution_count": 2,
   "metadata": {},
   "outputs": [],
   "source": [
    "path = '../../raw_data/dataset_Kids/'"
   ]
  },
  {
   "cell_type": "code",
   "execution_count": 3,
   "metadata": {},
   "outputs": [],
   "source": [
    "df_annotations_raw = pd.read_csv(join(path, 'annotations_raw.csv'))"
   ]
  },
  {
   "cell_type": "code",
   "execution_count": 4,
   "metadata": {},
   "outputs": [
    {
     "data": {
      "text/html": [
       "<div>\n",
       "<style scoped>\n",
       "    .dataframe tbody tr th:only-of-type {\n",
       "        vertical-align: middle;\n",
       "    }\n",
       "\n",
       "    .dataframe tbody tr th {\n",
       "        vertical-align: top;\n",
       "    }\n",
       "\n",
       "    .dataframe thead th {\n",
       "        text-align: right;\n",
       "    }\n",
       "</style>\n",
       "<table border=\"1\" class=\"dataframe\">\n",
       "  <thead>\n",
       "    <tr style=\"text-align: right;\">\n",
       "      <th></th>\n",
       "      <th>ic_id</th>\n",
       "      <th>user_hash</th>\n",
       "      <th>comment</th>\n",
       "      <th>flag_brain</th>\n",
       "      <th>flag_alpha</th>\n",
       "      <th>flag_mu</th>\n",
       "      <th>flag_eyes</th>\n",
       "      <th>flag_eyes_h</th>\n",
       "      <th>flag_eyes_v</th>\n",
       "      <th>flag_muscles</th>\n",
       "      <th>flag_heart</th>\n",
       "      <th>flag_line_noise</th>\n",
       "      <th>flag_ch_noise</th>\n",
       "    </tr>\n",
       "  </thead>\n",
       "  <tbody>\n",
       "    <tr>\n",
       "      <th>0</th>\n",
       "      <td>IC000262</td>\n",
       "      <td>14bbef115b29d959063c0bd6a22a9fb011af9f3b8bd932...</td>\n",
       "      <td>NaN</td>\n",
       "      <td>False</td>\n",
       "      <td>False</td>\n",
       "      <td>False</td>\n",
       "      <td>True</td>\n",
       "      <td>True</td>\n",
       "      <td>True</td>\n",
       "      <td>False</td>\n",
       "      <td>False</td>\n",
       "      <td>False</td>\n",
       "      <td>False</td>\n",
       "    </tr>\n",
       "    <tr>\n",
       "      <th>1</th>\n",
       "      <td>IC000262</td>\n",
       "      <td>8fcf3741c3c1f9d881656f95fdb14715554f924081a68b...</td>\n",
       "      <td>NaN</td>\n",
       "      <td>False</td>\n",
       "      <td>False</td>\n",
       "      <td>False</td>\n",
       "      <td>False</td>\n",
       "      <td>False</td>\n",
       "      <td>True</td>\n",
       "      <td>False</td>\n",
       "      <td>False</td>\n",
       "      <td>False</td>\n",
       "      <td>False</td>\n",
       "    </tr>\n",
       "  </tbody>\n",
       "</table>\n",
       "</div>"
      ],
      "text/plain": [
       "      ic_id                                          user_hash comment  \\\n",
       "0  IC000262  14bbef115b29d959063c0bd6a22a9fb011af9f3b8bd932...     NaN   \n",
       "1  IC000262  8fcf3741c3c1f9d881656f95fdb14715554f924081a68b...     NaN   \n",
       "\n",
       "   flag_brain  flag_alpha  flag_mu  flag_eyes  flag_eyes_h  flag_eyes_v  \\\n",
       "0       False       False    False       True         True         True   \n",
       "1       False       False    False      False        False         True   \n",
       "\n",
       "   flag_muscles  flag_heart  flag_line_noise  flag_ch_noise  \n",
       "0         False       False            False          False  \n",
       "1         False       False            False          False  "
      ]
     },
     "execution_count": 4,
     "metadata": {},
     "output_type": "execute_result"
    }
   ],
   "source": [
    "df_annotations_raw.head(2)"
   ]
  },
  {
   "cell_type": "code",
   "execution_count": 5,
   "metadata": {},
   "outputs": [],
   "source": [
    "df_annotations_raw['user_hash'] = df_annotations_raw['user_hash'].apply(lambda x: x[:8])"
   ]
  },
  {
   "cell_type": "markdown",
   "metadata": {},
   "source": [
    "Будем учитывать только разметку экспертов, которые разметили практически все компоненты"
   ]
  },
  {
   "cell_type": "code",
   "execution_count": 6,
   "metadata": {},
   "outputs": [
    {
     "data": {
      "text/plain": [
       "8fcf3741    618\n",
       "14bbef11    613\n",
       "aa020466     62\n",
       "27d1f3c0     11\n",
       "9630c152      3\n",
       "35326260      1\n",
       "33326b51      1\n",
       "9f86d081      1\n",
       "Name: user_hash, dtype: int64"
      ]
     },
     "execution_count": 6,
     "metadata": {},
     "output_type": "execute_result"
    }
   ],
   "source": [
    "df_annotations_raw['user_hash'].value_counts()"
   ]
  },
  {
   "cell_type": "code",
   "execution_count": 7,
   "metadata": {},
   "outputs": [],
   "source": [
    "users_to_use = ['8fcf3741', \n",
    "                '14bbef11']\n"
   ]
  },
  {
   "cell_type": "code",
   "execution_count": 8,
   "metadata": {},
   "outputs": [],
   "source": [
    "df_annotations_raw = df_annotations_raw[df_annotations_raw['user_hash'].isin(users_to_use)]"
   ]
  },
  {
   "cell_type": "markdown",
   "metadata": {},
   "source": [
    "Всего 620 ICs"
   ]
  },
  {
   "cell_type": "code",
   "execution_count": 9,
   "metadata": {},
   "outputs": [
    {
     "data": {
      "text/plain": [
       "620"
      ]
     },
     "execution_count": 9,
     "metadata": {},
     "output_type": "execute_result"
    }
   ],
   "source": [
    "len(df_annotations_raw['ic_id'].unique())"
   ]
  },
  {
   "cell_type": "markdown",
   "metadata": {},
   "source": [
    "Оставляем только компоненты, которые размечены двумя экспертами"
   ]
  },
  {
   "cell_type": "code",
   "execution_count": 10,
   "metadata": {},
   "outputs": [],
   "source": [
    "counts = df_annotations_raw['ic_id'].value_counts().to_frame()"
   ]
  },
  {
   "cell_type": "code",
   "execution_count": 11,
   "metadata": {},
   "outputs": [],
   "source": [
    "counts = counts[counts['ic_id'] == 2]"
   ]
  },
  {
   "cell_type": "code",
   "execution_count": 12,
   "metadata": {},
   "outputs": [
    {
     "data": {
      "text/plain": [
       "611"
      ]
     },
     "execution_count": 12,
     "metadata": {},
     "output_type": "execute_result"
    }
   ],
   "source": [
    "len(counts)"
   ]
  },
  {
   "cell_type": "code",
   "execution_count": 13,
   "metadata": {},
   "outputs": [],
   "source": [
    "df_annotations_raw = df_annotations_raw[df_annotations_raw['ic_id'].isin(counts.index)]"
   ]
  },
  {
   "cell_type": "markdown",
   "metadata": {},
   "source": [
    "Выделим колонки с флагами"
   ]
  },
  {
   "cell_type": "code",
   "execution_count": 15,
   "metadata": {},
   "outputs": [
    {
     "data": {
      "text/plain": [
       "Index(['ic_id', 'user_hash', 'comment', 'flag_brain', 'flag_alpha', 'flag_mu',\n",
       "       'flag_eyes', 'flag_eyes_h', 'flag_eyes_v', 'flag_muscles', 'flag_heart',\n",
       "       'flag_line_noise', 'flag_ch_noise'],\n",
       "      dtype='object')"
      ]
     },
     "execution_count": 15,
     "metadata": {},
     "output_type": "execute_result"
    }
   ],
   "source": [
    "df_annotations_raw.columns"
   ]
  },
  {
   "cell_type": "code",
   "execution_count": 16,
   "metadata": {},
   "outputs": [],
   "source": [
    "flags = ['flag_brain', 'flag_alpha', 'flag_mu',\n",
    "         'flag_eyes', 'flag_eyes_h', 'flag_eyes_v', 'flag_muscles', 'flag_heart',\n",
    "         'flag_line_noise', 'flag_ch_noise']"
   ]
  },
  {
   "cell_type": "code",
   "execution_count": 17,
   "metadata": {},
   "outputs": [],
   "source": [
    "df_annotations_raw[flags] = df_annotations_raw[flags].astype(int)"
   ]
  },
  {
   "cell_type": "markdown",
   "metadata": {},
   "source": [
    "Присвоим флаг глаз, если есть разметка flag_eyes_h или flag_eyes_v"
   ]
  },
  {
   "cell_type": "code",
   "execution_count": 18,
   "metadata": {},
   "outputs": [],
   "source": [
    "df_annotations_raw['flag_eyes'] = df_annotations_raw.apply(lambda row: max(row['flag_eyes'], row['flag_eyes_h'], row['flag_eyes_v']), axis=1)"
   ]
  },
  {
   "cell_type": "code",
   "execution_count": null,
   "metadata": {},
   "outputs": [],
   "source": []
  },
  {
   "cell_type": "markdown",
   "metadata": {},
   "source": [
    "Посчитаем метрики согласованности"
   ]
  },
  {
   "cell_type": "code",
   "execution_count": 53,
   "metadata": {},
   "outputs": [
    {
     "data": {
      "text/html": [
       "<div>\n",
       "<style scoped>\n",
       "    .dataframe tbody tr th:only-of-type {\n",
       "        vertical-align: middle;\n",
       "    }\n",
       "\n",
       "    .dataframe tbody tr th {\n",
       "        vertical-align: top;\n",
       "    }\n",
       "\n",
       "    .dataframe thead tr th {\n",
       "        text-align: left;\n",
       "    }\n",
       "\n",
       "    .dataframe thead tr:last-of-type th {\n",
       "        text-align: right;\n",
       "    }\n",
       "</style>\n",
       "<table border=\"1\" class=\"dataframe\">\n",
       "  <thead>\n",
       "    <tr>\n",
       "      <th></th>\n",
       "      <th colspan=\"2\" halign=\"left\">flag_brain</th>\n",
       "      <th colspan=\"2\" halign=\"left\">flag_alpha</th>\n",
       "      <th colspan=\"2\" halign=\"left\">flag_mu</th>\n",
       "      <th colspan=\"2\" halign=\"left\">flag_eyes</th>\n",
       "      <th colspan=\"2\" halign=\"left\">flag_eyes_h</th>\n",
       "      <th colspan=\"2\" halign=\"left\">flag_eyes_v</th>\n",
       "      <th colspan=\"2\" halign=\"left\">flag_muscles</th>\n",
       "      <th colspan=\"2\" halign=\"left\">flag_heart</th>\n",
       "      <th colspan=\"2\" halign=\"left\">flag_line_noise</th>\n",
       "      <th colspan=\"2\" halign=\"left\">flag_ch_noise</th>\n",
       "    </tr>\n",
       "    <tr>\n",
       "      <th>user_hash</th>\n",
       "      <th>14bbef11</th>\n",
       "      <th>8fcf3741</th>\n",
       "      <th>14bbef11</th>\n",
       "      <th>8fcf3741</th>\n",
       "      <th>14bbef11</th>\n",
       "      <th>8fcf3741</th>\n",
       "      <th>14bbef11</th>\n",
       "      <th>8fcf3741</th>\n",
       "      <th>14bbef11</th>\n",
       "      <th>8fcf3741</th>\n",
       "      <th>14bbef11</th>\n",
       "      <th>8fcf3741</th>\n",
       "      <th>14bbef11</th>\n",
       "      <th>8fcf3741</th>\n",
       "      <th>14bbef11</th>\n",
       "      <th>8fcf3741</th>\n",
       "      <th>14bbef11</th>\n",
       "      <th>8fcf3741</th>\n",
       "      <th>14bbef11</th>\n",
       "      <th>8fcf3741</th>\n",
       "    </tr>\n",
       "    <tr>\n",
       "      <th>ic_id</th>\n",
       "      <th></th>\n",
       "      <th></th>\n",
       "      <th></th>\n",
       "      <th></th>\n",
       "      <th></th>\n",
       "      <th></th>\n",
       "      <th></th>\n",
       "      <th></th>\n",
       "      <th></th>\n",
       "      <th></th>\n",
       "      <th></th>\n",
       "      <th></th>\n",
       "      <th></th>\n",
       "      <th></th>\n",
       "      <th></th>\n",
       "      <th></th>\n",
       "      <th></th>\n",
       "      <th></th>\n",
       "      <th></th>\n",
       "      <th></th>\n",
       "    </tr>\n",
       "  </thead>\n",
       "  <tbody>\n",
       "    <tr>\n",
       "      <th>IC000262</th>\n",
       "      <td>0</td>\n",
       "      <td>0</td>\n",
       "      <td>0</td>\n",
       "      <td>0</td>\n",
       "      <td>0</td>\n",
       "      <td>0</td>\n",
       "      <td>1</td>\n",
       "      <td>1</td>\n",
       "      <td>1</td>\n",
       "      <td>0</td>\n",
       "      <td>1</td>\n",
       "      <td>1</td>\n",
       "      <td>0</td>\n",
       "      <td>0</td>\n",
       "      <td>0</td>\n",
       "      <td>0</td>\n",
       "      <td>0</td>\n",
       "      <td>0</td>\n",
       "      <td>0</td>\n",
       "      <td>0</td>\n",
       "    </tr>\n",
       "    <tr>\n",
       "      <th>IC000263</th>\n",
       "      <td>1</td>\n",
       "      <td>1</td>\n",
       "      <td>0</td>\n",
       "      <td>0</td>\n",
       "      <td>0</td>\n",
       "      <td>0</td>\n",
       "      <td>1</td>\n",
       "      <td>0</td>\n",
       "      <td>0</td>\n",
       "      <td>0</td>\n",
       "      <td>0</td>\n",
       "      <td>0</td>\n",
       "      <td>1</td>\n",
       "      <td>0</td>\n",
       "      <td>0</td>\n",
       "      <td>0</td>\n",
       "      <td>0</td>\n",
       "      <td>0</td>\n",
       "      <td>1</td>\n",
       "      <td>0</td>\n",
       "    </tr>\n",
       "    <tr>\n",
       "      <th>IC000264</th>\n",
       "      <td>1</td>\n",
       "      <td>1</td>\n",
       "      <td>0</td>\n",
       "      <td>0</td>\n",
       "      <td>0</td>\n",
       "      <td>0</td>\n",
       "      <td>1</td>\n",
       "      <td>0</td>\n",
       "      <td>0</td>\n",
       "      <td>0</td>\n",
       "      <td>0</td>\n",
       "      <td>0</td>\n",
       "      <td>0</td>\n",
       "      <td>0</td>\n",
       "      <td>1</td>\n",
       "      <td>0</td>\n",
       "      <td>0</td>\n",
       "      <td>0</td>\n",
       "      <td>1</td>\n",
       "      <td>0</td>\n",
       "    </tr>\n",
       "    <tr>\n",
       "      <th>IC000265</th>\n",
       "      <td>1</td>\n",
       "      <td>1</td>\n",
       "      <td>0</td>\n",
       "      <td>0</td>\n",
       "      <td>0</td>\n",
       "      <td>0</td>\n",
       "      <td>1</td>\n",
       "      <td>0</td>\n",
       "      <td>1</td>\n",
       "      <td>0</td>\n",
       "      <td>0</td>\n",
       "      <td>0</td>\n",
       "      <td>1</td>\n",
       "      <td>0</td>\n",
       "      <td>0</td>\n",
       "      <td>0</td>\n",
       "      <td>0</td>\n",
       "      <td>0</td>\n",
       "      <td>1</td>\n",
       "      <td>0</td>\n",
       "    </tr>\n",
       "    <tr>\n",
       "      <th>IC000266</th>\n",
       "      <td>1</td>\n",
       "      <td>1</td>\n",
       "      <td>0</td>\n",
       "      <td>0</td>\n",
       "      <td>0</td>\n",
       "      <td>0</td>\n",
       "      <td>0</td>\n",
       "      <td>0</td>\n",
       "      <td>0</td>\n",
       "      <td>0</td>\n",
       "      <td>0</td>\n",
       "      <td>0</td>\n",
       "      <td>1</td>\n",
       "      <td>0</td>\n",
       "      <td>1</td>\n",
       "      <td>0</td>\n",
       "      <td>0</td>\n",
       "      <td>0</td>\n",
       "      <td>0</td>\n",
       "      <td>0</td>\n",
       "    </tr>\n",
       "  </tbody>\n",
       "</table>\n",
       "</div>"
      ],
      "text/plain": [
       "          flag_brain          flag_alpha           flag_mu          flag_eyes  \\\n",
       "user_hash   14bbef11 8fcf3741   14bbef11 8fcf3741 14bbef11 8fcf3741  14bbef11   \n",
       "ic_id                                                                           \n",
       "IC000262           0        0          0        0        0        0         1   \n",
       "IC000263           1        1          0        0        0        0         1   \n",
       "IC000264           1        1          0        0        0        0         1   \n",
       "IC000265           1        1          0        0        0        0         1   \n",
       "IC000266           1        1          0        0        0        0         0   \n",
       "\n",
       "                   flag_eyes_h          flag_eyes_v          flag_muscles  \\\n",
       "user_hash 8fcf3741    14bbef11 8fcf3741    14bbef11 8fcf3741     14bbef11   \n",
       "ic_id                                                                       \n",
       "IC000262         1           1        0           1        1            0   \n",
       "IC000263         0           0        0           0        0            1   \n",
       "IC000264         0           0        0           0        0            0   \n",
       "IC000265         0           1        0           0        0            1   \n",
       "IC000266         0           0        0           0        0            1   \n",
       "\n",
       "                   flag_heart          flag_line_noise          flag_ch_noise  \\\n",
       "user_hash 8fcf3741   14bbef11 8fcf3741        14bbef11 8fcf3741      14bbef11   \n",
       "ic_id                                                                           \n",
       "IC000262         0          0        0               0        0             0   \n",
       "IC000263         0          0        0               0        0             1   \n",
       "IC000264         0          1        0               0        0             1   \n",
       "IC000265         0          0        0               0        0             1   \n",
       "IC000266         0          1        0               0        0             0   \n",
       "\n",
       "                    \n",
       "user_hash 8fcf3741  \n",
       "ic_id               \n",
       "IC000262         0  \n",
       "IC000263         0  \n",
       "IC000264         0  \n",
       "IC000265         0  \n",
       "IC000266         0  "
      ]
     },
     "execution_count": 53,
     "metadata": {},
     "output_type": "execute_result"
    }
   ],
   "source": [
    "unstacked = df_annotations_raw[['ic_id', 'user_hash', *flags]].set_index(['ic_id', 'user_hash']).unstack()\n",
    "unstacked.head()"
   ]
  },
  {
   "cell_type": "markdown",
   "metadata": {},
   "source": [
    "Считаем Cohen's kappa самостоятельно"
   ]
  },
  {
   "cell_type": "code",
   "execution_count": 40,
   "metadata": {},
   "outputs": [],
   "source": [
    "mean_user_0 = unstacked.loc[:, ('flag_brain', users_to_use[0])].mean()\n",
    "mean_user_1 = unstacked.loc[:, ('flag_brain', users_to_use[1])].mean()"
   ]
  },
  {
   "cell_type": "code",
   "execution_count": 41,
   "metadata": {},
   "outputs": [
    {
     "data": {
      "text/plain": [
       "0.6033627896635871"
      ]
     },
     "execution_count": 41,
     "metadata": {},
     "output_type": "execute_result"
    }
   ],
   "source": [
    "p_chance = mean_user_0 * mean_user_1 + (1 - mean_user_0) * (1 - mean_user_1)\n",
    "p_chance"
   ]
  },
  {
   "cell_type": "code",
   "execution_count": 42,
   "metadata": {},
   "outputs": [],
   "source": [
    "p_0 = (unstacked.loc[:, ('flag_brain', users_to_use[0])] == unstacked.loc[:, ('flag_brain', users_to_use[1])]).mean()"
   ]
  },
  {
   "cell_type": "code",
   "execution_count": 43,
   "metadata": {},
   "outputs": [
    {
     "data": {
      "text/plain": [
       "0.7692307692307693"
      ]
     },
     "execution_count": 43,
     "metadata": {},
     "output_type": "execute_result"
    }
   ],
   "source": [
    "p_0"
   ]
  },
  {
   "cell_type": "code",
   "execution_count": 44,
   "metadata": {},
   "outputs": [
    {
     "data": {
      "text/plain": [
       "0.4181856246581079"
      ]
     },
     "execution_count": 44,
     "metadata": {},
     "output_type": "execute_result"
    }
   ],
   "source": [
    "(p_0 - p_chance) / (1 - p_chance)"
   ]
  },
  {
   "cell_type": "markdown",
   "metadata": {},
   "source": [
    "Проверяем метрику в sklearn"
   ]
  },
  {
   "cell_type": "code",
   "execution_count": 45,
   "metadata": {},
   "outputs": [],
   "source": [
    "from sklearn.metrics import cohen_kappa_score"
   ]
  },
  {
   "cell_type": "code",
   "execution_count": 46,
   "metadata": {},
   "outputs": [
    {
     "data": {
      "text/plain": [
       "0.4181856246581078"
      ]
     },
     "execution_count": 46,
     "metadata": {},
     "output_type": "execute_result"
    }
   ],
   "source": [
    "cohen_kappa_score(unstacked.loc[:, ('flag_brain', users_to_use[0])], unstacked.loc[:, ('flag_brain', users_to_use[1])])"
   ]
  },
  {
   "cell_type": "markdown",
   "metadata": {},
   "source": [
    "Считаем Cohen's kappa для всех флагов"
   ]
  },
  {
   "cell_type": "code",
   "execution_count": 47,
   "metadata": {},
   "outputs": [
    {
     "name": "stdout",
     "output_type": "stream",
     "text": [
      "flag_brain: kappa = 0.42\n",
      "flag_alpha: kappa = 0.13\n",
      "flag_mu: kappa = 0.22\n",
      "flag_eyes: kappa = 0.10\n",
      "flag_eyes_h: kappa = 0.22\n",
      "flag_eyes_v: kappa = 0.31\n",
      "flag_muscles: kappa = 0.36\n",
      "flag_heart: kappa = 0.04\n",
      "flag_line_noise: kappa = -0.01\n",
      "flag_ch_noise: kappa = 0.12\n"
     ]
    }
   ],
   "source": [
    "for flag in flags:\n",
    "    print('{}: kappa = {:.2f}'.format(flag, cohen_kappa_score(unstacked.loc[:, (flag, users_to_use[0])], unstacked.loc[:, (flag, users_to_use[1])])))"
   ]
  },
  {
   "cell_type": "markdown",
   "metadata": {},
   "source": [
    "Смотрим разметку по всем флагам"
   ]
  },
  {
   "cell_type": "code",
   "execution_count": 48,
   "metadata": {},
   "outputs": [],
   "source": [
    "scores = df_annotations_raw.groupby('ic_id')[flags].mean().reset_index()"
   ]
  },
  {
   "cell_type": "code",
   "execution_count": 49,
   "metadata": {},
   "outputs": [],
   "source": [
    "counts = df_annotations_raw.groupby('ic_id')['flag_brain'].count().reset_index()\n",
    "counts.columns = ['ic_id', 'n_annotations']"
   ]
  },
  {
   "cell_type": "code",
   "execution_count": 50,
   "metadata": {},
   "outputs": [],
   "source": [
    "df_annotations = scores.merge(counts, on='ic_id')"
   ]
  },
  {
   "cell_type": "code",
   "execution_count": 52,
   "metadata": {
    "scrolled": false
   },
   "outputs": [
    {
     "name": "stdout",
     "output_type": "stream",
     "text": [
      "flag_brain\n",
      "0.0     93\n",
      "0.5    141\n",
      "1.0    377\n",
      "Name: flag_brain, dtype: int64\n",
      "\n",
      "flag_alpha\n",
      "0.0    538\n",
      "0.5     66\n",
      "1.0      7\n",
      "Name: flag_alpha, dtype: int64\n",
      "\n",
      "flag_mu\n",
      "0.0    515\n",
      "0.5     82\n",
      "1.0     14\n",
      "Name: flag_mu, dtype: int64\n",
      "\n",
      "flag_eyes\n",
      "0.0    216\n",
      "0.5    332\n",
      "1.0     63\n",
      "Name: flag_eyes, dtype: int64\n",
      "\n",
      "flag_eyes_h\n",
      "0.0    527\n",
      "0.5     72\n",
      "1.0     12\n",
      "Name: flag_eyes_h, dtype: int64\n",
      "\n",
      "flag_eyes_v\n",
      "0.0    555\n",
      "0.5     45\n",
      "1.0     11\n",
      "Name: flag_eyes_v, dtype: int64\n",
      "\n",
      "flag_muscles\n",
      "0.0    299\n",
      "0.5    191\n",
      "1.0    121\n",
      "Name: flag_muscles, dtype: int64\n",
      "\n",
      "flag_heart\n",
      "0.0    360\n",
      "0.5    242\n",
      "1.0      9\n",
      "Name: flag_heart, dtype: int64\n",
      "\n",
      "flag_line_noise\n",
      "0.0    599\n",
      "0.5     12\n",
      "Name: flag_line_noise, dtype: int64\n",
      "\n",
      "flag_ch_noise\n",
      "0.0    373\n",
      "0.5    200\n",
      "1.0     38\n",
      "Name: flag_ch_noise, dtype: int64\n",
      "\n"
     ]
    }
   ],
   "source": [
    "for flag in flags:\n",
    "    print(flag)\n",
    "    print(df_annotations[flag].value_counts().sort_index())\n",
    "    print('')"
   ]
  }
 ],
 "metadata": {
  "kernelspec": {
   "display_name": "Python 3",
   "language": "python",
   "name": "python3"
  },
  "language_info": {
   "codemirror_mode": {
    "name": "ipython",
    "version": 3
   },
   "file_extension": ".py",
   "mimetype": "text/x-python",
   "name": "python",
   "nbconvert_exporter": "python",
   "pygments_lexer": "ipython3",
   "version": "3.7.6"
  }
 },
 "nbformat": 4,
 "nbformat_minor": 4
}
